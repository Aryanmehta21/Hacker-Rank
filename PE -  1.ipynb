{
 "cells": [
  {
   "cell_type": "code",
   "execution_count": 1,
   "metadata": {},
   "outputs": [
    {
     "name": "stdout",
     "output_type": "stream",
     "text": [
      "2\n",
      "10\n",
      "100\n",
      "23\n",
      "2318\n"
     ]
    }
   ],
   "source": [
    "def func():\n",
    "    T=int(input())\n",
    "    list3=[\"\"]*T\n",
    "    for i in range(0,T):\n",
    "        N=int(input())\n",
    "        list1=[]\n",
    "        a=3\n",
    "        b=5\n",
    "        while(a<N):\n",
    "            list1.append(a)\n",
    "            a=a+3\n",
    "        while(b<N):\n",
    "            list1.append(b)\n",
    "            b=b+5\n",
    "        list2=list(set(list1))\n",
    "        list3[i]=sum(list2)\n",
    "    print(*list3,sep='\\n')\n",
    "func()"
   ]
  },
  {
   "cell_type": "code",
   "execution_count": 2,
   "metadata": {},
   "outputs": [
    {
     "ename": "SyntaxError",
     "evalue": "invalid syntax (<ipython-input-2-705df03c4628>, line 1)",
     "output_type": "error",
     "traceback": [
      "\u001b[1;36m  File \u001b[1;32m\"<ipython-input-2-705df03c4628>\"\u001b[1;36m, line \u001b[1;32m1\u001b[0m\n\u001b[1;33m    import java.io.*;\u001b[0m\n\u001b[1;37m                   ^\u001b[0m\n\u001b[1;31mSyntaxError\u001b[0m\u001b[1;31m:\u001b[0m invalid syntax\n"
     ]
    }
   ],
   "source": [
    "import java.io.*;\n",
    "import java.util.*;\n",
    "import java.text.*;\n",
    "import java.math.*;\n",
    "import java.util.regex.*;\n",
    "\n",
    "public class Solution {\n",
    "\n",
    "    public static void main(String[] args) {\n",
    "        /* Enter your code here. Read input from STDIN. Print output to STDOUT. Your class should be named Solution. */\n",
    "        Scanner sc = new Scanner(System.in);\n",
    "        long t = sc.nextLong();\n",
    "        for(long i=0;i<t;i++){\n",
    "            long n = sc.nextLong();\n",
    "            long a=0, b=0, d=0;\n",
    "            a=(n-1)%3;\n",
    "            a=n-1-a;\n",
    "            a=a/3;\n",
    "            b=(n-1)%5;\n",
    "            b=n-1-b;\n",
    "            b=b/5;\n",
    "            d=(n-1)%15;\n",
    "            d=n-1-d;\n",
    "            d=d/15;\n",
    "            long c= 3*a*(a+1)/2 + 5*b*(b+1)/2 - 15*d*(d+1)/2;\n",
    "            System.out.println(c);\n",
    "        }\n",
    "    }\n",
    "}"
   ]
  },
  {
   "cell_type": "code",
   "execution_count": null,
   "metadata": {},
   "outputs": [],
   "source": []
  }
 ],
 "metadata": {
  "kernelspec": {
   "display_name": "Python 3",
   "language": "python",
   "name": "python3"
  },
  "language_info": {
   "codemirror_mode": {
    "name": "ipython",
    "version": 3
   },
   "file_extension": ".py",
   "mimetype": "text/x-python",
   "name": "python",
   "nbconvert_exporter": "python",
   "pygments_lexer": "ipython3",
   "version": "3.6.5"
  }
 },
 "nbformat": 4,
 "nbformat_minor": 2
}
