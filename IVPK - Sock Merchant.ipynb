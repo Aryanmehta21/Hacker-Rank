{
 "cells": [
  {
   "cell_type": "code",
   "execution_count": 3,
   "metadata": {},
   "outputs": [
    {
     "name": "stdout",
     "output_type": "stream",
     "text": [
      "9\n",
      "10 20 20 10 10 30 50 10 20\n",
      "[4, 3, 1, 1]\n",
      "3\n"
     ]
    }
   ],
   "source": [
    "def func():\n",
    "    N=int(input())\n",
    "    list1=[\"\"]*N\n",
    "    c=input()\n",
    "    list1=list(map(int,c.split()))\n",
    "    list2=list(set(list1))\n",
    "    list2.sort()\n",
    "    list3=[\"\"]*len(list2)\n",
    "    for i in range(0,len(list2)):\n",
    "        list3[i]=list1.count(list2[i])\n",
    "    c=0\n",
    "    for j in range(0,len(list3)):\n",
    "        if list3[j]>2:\n",
    "            if list3[j]%2==0:\n",
    "                c=c+(list3[j]//2)\n",
    "            else:\n",
    "                c=c+((list3[j]-1)//2)\n",
    "        if list3[j]==2:\n",
    "            c=c+1\n",
    "    print(c)\n",
    "func()"
   ]
  },
  {
   "cell_type": "code",
   "execution_count": null,
   "metadata": {},
   "outputs": [],
   "source": []
  }
 ],
 "metadata": {
  "kernelspec": {
   "display_name": "Python 3",
   "language": "python",
   "name": "python3"
  },
  "language_info": {
   "codemirror_mode": {
    "name": "ipython",
    "version": 3
   },
   "file_extension": ".py",
   "mimetype": "text/x-python",
   "name": "python",
   "nbconvert_exporter": "python",
   "pygments_lexer": "ipython3",
   "version": "3.6.5"
  }
 },
 "nbformat": 4,
 "nbformat_minor": 2
}
