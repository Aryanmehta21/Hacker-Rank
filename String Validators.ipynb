{
 "cells": [
  {
   "cell_type": "code",
   "execution_count": 13,
   "metadata": {},
   "outputs": [
    {
     "name": "stdout",
     "output_type": "stream",
     "text": [
      "qA2\n",
      "q\n",
      "A\n",
      "2\n",
      "False\n",
      "True\n",
      "True\n",
      "True\n",
      "True\n"
     ]
    }
   ],
   "source": [
    "def func():\n",
    "    s=input(\"\")\n",
    "    list1=list(s)\n",
    "    list2=[\"\"]*5\n",
    "    a=0\n",
    "    b=0\n",
    "    c=0\n",
    "    d=0\n",
    "    e=0\n",
    "    for i in range(0,len(s)):\n",
    "        if list1[i].isalnum()==True:\n",
    "            a=1\n",
    "            list2[0]='True'\n",
    "        if list1[i].isalpha()==True:\n",
    "            b=1\n",
    "            list2[1]='True'\n",
    "        if list1[i].isdigit()==True:\n",
    "            c=1\n",
    "            list2[2]='True'\n",
    "        if list1[i].islower()==True:\n",
    "            d=1\n",
    "            list2[3]='True'\n",
    "        if list1[i].isupper()==True:\n",
    "            e=1\n",
    "            list2[4]='True'\n",
    "    if a==0:\n",
    "        list2[0]='False'\n",
    "    if b==0:\n",
    "        list2[1]='False'\n",
    "    if c==0:\n",
    "        list2[2]='False'\n",
    "    if d==0:\n",
    "        list2[3]='False'\n",
    "    if e==0:\n",
    "        list2[4]='False'\n",
    "    print(*list2,sep='\\n')\n",
    "func()"
   ]
  },
  {
   "cell_type": "code",
   "execution_count": 12,
   "metadata": {},
   "outputs": [
    {
     "data": {
      "text/plain": [
       "True"
      ]
     },
     "execution_count": 12,
     "metadata": {},
     "output_type": "execute_result"
    }
   ],
   "source": [
    "'q'.isalnum()"
   ]
  },
  {
   "cell_type": "code",
   "execution_count": null,
   "metadata": {},
   "outputs": [],
   "source": []
  }
 ],
 "metadata": {
  "kernelspec": {
   "display_name": "Python 3",
   "language": "python",
   "name": "python3"
  },
  "language_info": {
   "codemirror_mode": {
    "name": "ipython",
    "version": 3
   },
   "file_extension": ".py",
   "mimetype": "text/x-python",
   "name": "python",
   "nbconvert_exporter": "python",
   "pygments_lexer": "ipython3",
   "version": "3.6.5"
  }
 },
 "nbformat": 4,
 "nbformat_minor": 2
}
