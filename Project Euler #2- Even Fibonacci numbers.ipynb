{
 "cells": [
  {
   "cell_type": "code",
   "execution_count": 1,
   "metadata": {},
   "outputs": [
    {
     "name": "stdout",
     "output_type": "stream",
     "text": [
      "2\n",
      "10\n",
      "100\n",
      "10\n",
      "44\n"
     ]
    }
   ],
   "source": [
    "def func():\n",
    "    T=int(input())\n",
    "    list1=[\"\"]*T\n",
    "    for i in range(0,T):\n",
    "        N=int(input())\n",
    "        a=1\n",
    "        b=1\n",
    "        list2=[]\n",
    "        while(a<N):\n",
    "            if a%2==0:\n",
    "                list2.append(a)\n",
    "            c=a+b\n",
    "            b=a\n",
    "            a=c\n",
    "        s=sum(list2)\n",
    "        list1[i]=s\n",
    "    print(*list1,sep='\\n')\n",
    "func()"
   ]
  },
  {
   "cell_type": "code",
   "execution_count": null,
   "metadata": {},
   "outputs": [],
   "source": []
  }
 ],
 "metadata": {
  "kernelspec": {
   "display_name": "Python 3",
   "language": "python",
   "name": "python3"
  },
  "language_info": {
   "codemirror_mode": {
    "name": "ipython",
    "version": 3
   },
   "file_extension": ".py",
   "mimetype": "text/x-python",
   "name": "python",
   "nbconvert_exporter": "python",
   "pygments_lexer": "ipython3",
   "version": "3.6.5"
  }
 },
 "nbformat": 4,
 "nbformat_minor": 2
}
