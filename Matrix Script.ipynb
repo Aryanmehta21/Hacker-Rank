{
 "cells": [
  {
   "cell_type": "code",
   "execution_count": 1,
   "metadata": {},
   "outputs": [],
   "source": [
    "import numpy\n",
    "def func():\n",
    "    c=input(\"\")\n",
    "    N,M=map(int,c.split())\n",
    "    list1=[\"\"]*M\n",
    "    a=[]\n",
    "    z=[]\n",
    "    for i in range(0,N):\n",
    "        d=input(\"\")\n",
    "        list1=list(d)\n",
    "        b=numpy.array(list1)\n",
    "        a.append(b)\n",
    "    a=numpy.array(a)\n",
    "    t=numpy.transpose(a)\n",
    "    r=list(t)\n",
    "    list2=[]\n",
    "    for j in range(0,M):\n",
    "        for k in range(0,N):\n",
    "            list2.append(r[j][k])\n",
    "    list3=[]\n",
    "    for l in range(0,M*N):\n",
    "        if ((list2[l]>='A' and list2[l]<='Z')or(list2[l]>='a' and list2[l]<='z')or(list2[l]>='0' and list2[l]<='9')):\n",
    "            list3.append(list2[l])\n",
    "        else:\n",
    "            if ((list2[l-1]>='A' and list2[l-1]<='Z')or(list2[l-1]>='a' and list2[l-1]<='z')or(list2[l-1]>='0' and list2[l-1]<='9'))and((list2[l+1]>='A' and list2[l+1]<='Z')or(list2[l+1]>='a' and list2[l+1]<='z')or(list2[l+1]>='0' and list2[l+1]<='9')):\n",
    "                list3.append(' ')\n",
    "            else:\n",
    "                list3.append(list2[l])\n",
    "func()"
   ]
  },
  {
   "cell_type": "code",
   "execution_count": null,
   "metadata": {},
   "outputs": [],
   "source": []
  }
 ],
 "metadata": {
  "kernelspec": {
   "display_name": "Python 3",
   "language": "python",
   "name": "python3"
  },
  "language_info": {
   "codemirror_mode": {
    "name": "ipython",
    "version": 3
   },
   "file_extension": ".py",
   "mimetype": "text/x-python",
   "name": "python",
   "nbconvert_exporter": "python",
   "pygments_lexer": "ipython3",
   "version": "3.6.5"
  }
 },
 "nbformat": 4,
 "nbformat_minor": 2
}
