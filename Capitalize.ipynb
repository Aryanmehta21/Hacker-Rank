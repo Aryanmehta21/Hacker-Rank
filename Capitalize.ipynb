{
 "cells": [
  {
   "cell_type": "code",
   "execution_count": 9,
   "metadata": {},
   "outputs": [
    {
     "name": "stdout",
     "output_type": "stream",
     "text": [
      "hello world\n",
      "Hello World\n"
     ]
    }
   ],
   "source": [
    "def func():\n",
    "    S=input(\"\")\n",
    "    S=S+\" \"\n",
    "    list1=list(S)\n",
    "    if list1[0].isalpha():\n",
    "        list1[0]=list1[0].upper()\n",
    "    for i in range(1,len(S)-1):\n",
    "        if list1[i]==' ':\n",
    "            if list1[i+1].isalpha():\n",
    "                list1[i+1]=list1[i+1].upper()\n",
    "    list1.pop()\n",
    "    print(*list1,sep='')\n",
    "func()"
   ]
  },
  {
   "cell_type": "code",
   "execution_count": null,
   "metadata": {},
   "outputs": [],
   "source": []
  }
 ],
 "metadata": {
  "kernelspec": {
   "display_name": "Python 3",
   "language": "python",
   "name": "python3"
  },
  "language_info": {
   "codemirror_mode": {
    "name": "ipython",
    "version": 3
   },
   "file_extension": ".py",
   "mimetype": "text/x-python",
   "name": "python",
   "nbconvert_exporter": "python",
   "pygments_lexer": "ipython3",
   "version": "3.6.5"
  }
 },
 "nbformat": 4,
 "nbformat_minor": 2
}
