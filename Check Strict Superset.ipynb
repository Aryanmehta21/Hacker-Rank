{
 "cells": [
  {
   "cell_type": "code",
   "execution_count": null,
   "metadata": {},
   "outputs": [],
   "source": [
    "def func():\n",
    "    list1=set(list(map(int,input().split())))\n",
    "    N=int(input())\n",
    "    c=0\n",
    "    for i in range(N):\n",
    "        list2=set(list(map(int,input().split())))\n",
    "        if(list1.intersection(list2)==list2):\n",
    "            c=c+1\n",
    "    if(c==N):\n",
    "        print(\"True\")\n",
    "    else:\n",
    "        print(\"False\")\n",
    "func()"
   ]
  }
 ],
 "metadata": {
  "kernelspec": {
   "display_name": "Python 3",
   "language": "python",
   "name": "python3"
  },
  "language_info": {
   "codemirror_mode": {
    "name": "ipython",
    "version": 3
   },
   "file_extension": ".py",
   "mimetype": "text/x-python",
   "name": "python",
   "nbconvert_exporter": "python",
   "pygments_lexer": "ipython3",
   "version": "3.6.5"
  }
 },
 "nbformat": 4,
 "nbformat_minor": 2
}
