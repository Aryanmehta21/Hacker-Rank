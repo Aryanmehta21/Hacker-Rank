{
 "cells": [
  {
   "cell_type": "code",
   "execution_count": 19,
   "metadata": {},
   "outputs": [
    {
     "name": "stdout",
     "output_type": "stream",
     "text": [
      "1\n",
      "Fri 11 Feb 2078 00:05:21 +0400\n",
      "Mon 29 Dec 2064 03:33:48 -1100\n",
      "443017707\n"
     ]
    }
   ],
   "source": [
    "import math\n",
    "import datetime\n",
    "def func():\n",
    "    T=int(input())\n",
    "    list1=[]\n",
    "    for i in range(T):\n",
    "        sec=0\n",
    "        d1,day1,month1,year1,time1,zone1=map(str,input().split())\n",
    "        d2,day2,month2,year2,time2,zone2=map(str,input().split())\n",
    "        year1=int(year1)\n",
    "        year2=int(year2)\n",
    "        day1=int(day1)\n",
    "        day2=int(day2)\n",
    "        #time zone difference\n",
    "        z=abs(int(zone1)-int(zone2))\n",
    "        sec=sec-((int(z)%100)*60+int((int(z)/100))*60*60)\n",
    "        #time difference\n",
    "        h1,m1,s1=map(int,time1.split(':'))\n",
    "        h2,m2,s2=map(int,time2.split(':'))\n",
    "        sec=sec+abs(h1-h2)*60*60+abs(m1-m2)*60+abs(s1-s2)\n",
    "        #Year difference\n",
    "        sec=sec+abs(year1-year2)*365*24*60*60+abs(day1-day2)*24*60*60\n",
    "        list1.append((abs(int(sec))))\n",
    "    print(*list1,sep='\\n')\n",
    "func()"
   ]
  },
  {
   "cell_type": "code",
   "execution_count": null,
   "metadata": {},
   "outputs": [],
   "source": [
    "from datetime import datetime as dt\n",
    "#correct answer\n",
    "\n",
    "fmt = '%a %d %b %Y %H:%M:%S %z'\n",
    "for i in range(int(input())):\n",
    "    print(int(abs((dt.strptime(input(), fmt) - \n",
    "                   dt.strptime(input(), fmt)).total_seconds())))"
   ]
  }
 ],
 "metadata": {
  "kernelspec": {
   "display_name": "Python 3",
   "language": "python",
   "name": "python3"
  },
  "language_info": {
   "codemirror_mode": {
    "name": "ipython",
    "version": 3
   },
   "file_extension": ".py",
   "mimetype": "text/x-python",
   "name": "python",
   "nbconvert_exporter": "python",
   "pygments_lexer": "ipython3",
   "version": "3.6.5"
  }
 },
 "nbformat": 4,
 "nbformat_minor": 2
}
