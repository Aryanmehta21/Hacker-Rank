{
 "cells": [
  {
   "cell_type": "code",
   "execution_count": 10,
   "metadata": {},
   "outputs": [
    {
     "name": "stdout",
     "output_type": "stream",
     "text": [
      "5 3\n",
      "89 90 78 93 80\n",
      "90 91 85 88 86\n",
      "91 92 83 89 90.5\n",
      "90.0\n",
      "91.0\n",
      "82.0\n",
      "90.0\n",
      "85.5\n"
     ]
    }
   ],
   "source": [
    "import numpy as np\n",
    "def func():\n",
    "    N,X=map(int,input().split())\n",
    "    list1=list(map(float,input().split()))\n",
    "    for i in range(1,X):\n",
    "        list2=list(map(float,input().split()))\n",
    "        list1 = [sum(i) for i in zip(list1,list2)]\n",
    "    list1=np.divide(list1,X)\n",
    "    print(*list1,sep='\\n')\n",
    "func()"
   ]
  },
  {
   "cell_type": "code",
   "execution_count": 13,
   "metadata": {},
   "outputs": [
    {
     "name": "stdout",
     "output_type": "stream",
     "text": [
      "5 3\n",
      "89 90 78 93 80\n",
      "90 91 85 88 86\n",
      "91 92 83 89 90.5\n",
      "90.0\n",
      "91.0\n",
      "82.0\n",
      "270.0\n",
      "256.5\n"
     ]
    }
   ],
   "source": [
    "def func():\n",
    "    N,X=map(int,input().split())\n",
    "    list1=list(map(float,input().split()))\n",
    "    for i in range(1,X):\n",
    "        list2=list(map(float,input().split()))\n",
    "        list1 = [sum(i) for i in zip(list1,list2)]\n",
    "    for j in range(N):\n",
    "        list1[j]=list1[j]/X\n",
    "    print(*list1,sep='\\n')\n",
    "func()"
   ]
  },
  {
   "cell_type": "code",
   "execution_count": null,
   "metadata": {},
   "outputs": [],
   "source": []
  }
 ],
 "metadata": {
  "kernelspec": {
   "display_name": "Python 3",
   "language": "python",
   "name": "python3"
  },
  "language_info": {
   "codemirror_mode": {
    "name": "ipython",
    "version": 3
   },
   "file_extension": ".py",
   "mimetype": "text/x-python",
   "name": "python",
   "nbconvert_exporter": "python",
   "pygments_lexer": "ipython3",
   "version": "3.6.5"
  }
 },
 "nbformat": 4,
 "nbformat_minor": 2
}
