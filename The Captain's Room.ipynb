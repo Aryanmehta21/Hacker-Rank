{
 "cells": [
  {
   "cell_type": "code",
   "execution_count": null,
   "metadata": {},
   "outputs": [],
   "source": [
    "def func():\n",
    "    K=int(input())\n",
    "    list1=list(map(int,input().split()))\n",
    "    list2=list(set(list1))\n",
    "    for i in range(len(list1)):\n",
    "        c=list1.count(list2[i])\n",
    "        if(c==1):\n",
    "            print(list2[i])\n",
    "            break\n",
    "func()"
   ]
  },
  {
   "cell_type": "code",
   "execution_count": 9,
   "metadata": {},
   "outputs": [
    {
     "name": "stdout",
     "output_type": "stream",
     "text": [
      "5\n",
      "1 2 2 1 1 3\n",
      "3\n"
     ]
    }
   ],
   "source": [
    "from collections import Counter\n",
    "def func():\n",
    "    K=int(input())\n",
    "    list1=list(map(int,input().split()))\n",
    "    c=Counter(list1)\n",
    "    for i in c:\n",
    "        if(c[i]==1):\n",
    "            print(i)\n",
    "func()"
   ]
  },
  {
   "cell_type": "code",
   "execution_count": null,
   "metadata": {},
   "outputs": [],
   "source": []
  }
 ],
 "metadata": {
  "kernelspec": {
   "display_name": "Python 3",
   "language": "python",
   "name": "python3"
  },
  "language_info": {
   "codemirror_mode": {
    "name": "ipython",
    "version": 3
   },
   "file_extension": ".py",
   "mimetype": "text/x-python",
   "name": "python",
   "nbconvert_exporter": "python",
   "pygments_lexer": "ipython3",
   "version": "3.6.5"
  }
 },
 "nbformat": 4,
 "nbformat_minor": 2
}
