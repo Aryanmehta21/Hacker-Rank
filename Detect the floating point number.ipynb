{
 "cells": [
  {
   "cell_type": "code",
   "execution_count": 12,
   "metadata": {},
   "outputs": [
    {
     "name": "stdout",
     "output_type": "stream",
     "text": [
      "5\n",
      "1.414\n",
      "+.5486468\n",
      "0.5.0\n",
      "1+1.0\n",
      "0\n",
      "True\n",
      "True\n",
      "False\n",
      "False\n",
      "True\n"
     ]
    }
   ],
   "source": [
    "def func():\n",
    "    T=int(input())\n",
    "    list1=[]\n",
    "    for i in range(T):\n",
    "        n=input()\n",
    "        try:\n",
    "            n=float(n)\n",
    "            if n*1==0:\n",
    "                list1.append(False)\n",
    "            else:\n",
    "                list1.append(True)\n",
    "        except:\n",
    "            list1.append(False)\n",
    "    print(*list1,sep='\\n')\n",
    "func()"
   ]
  },
  {
   "cell_type": "code",
   "execution_count": null,
   "metadata": {},
   "outputs": [],
   "source": []
  }
 ],
 "metadata": {
  "kernelspec": {
   "display_name": "Python 3",
   "language": "python",
   "name": "python3"
  },
  "language_info": {
   "codemirror_mode": {
    "name": "ipython",
    "version": 3
   },
   "file_extension": ".py",
   "mimetype": "text/x-python",
   "name": "python",
   "nbconvert_exporter": "python",
   "pygments_lexer": "ipython3",
   "version": "3.6.5"
  }
 },
 "nbformat": 4,
 "nbformat_minor": 2
}
