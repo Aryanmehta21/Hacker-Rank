{
 "cells": [
  {
   "cell_type": "code",
   "execution_count": 16,
   "metadata": {},
   "outputs": [
    {
     "name": "stdout",
     "output_type": "stream",
     "text": [
      "27\n",
      "Yes\n"
     ]
    }
   ],
   "source": [
    "def isPrime(n):\n",
    "    for i in range(2,int(n**0.5)+1):\n",
    "        if n%i==0:\n",
    "            return False\n",
    "    return True\n",
    "\n",
    "def func():\n",
    "    list1=[]\n",
    "    N=int(input())\n",
    "    for i in range(2,round(N/2)):\n",
    "        if N%i==0:\n",
    "            if isPrime(i)==True:\n",
    "                list1.append(i)\n",
    "    list2=[]\n",
    "    for i in range(len(list1)):\n",
    "        for j in range(i,len(list1)):\n",
    "            list2.append(list1[i]*list1[j])\n",
    "    c=0\n",
    "    for i in range(len(list2)):\n",
    "        if N%list2[i]==0:\n",
    "            c+=1\n",
    "    if c>0:\n",
    "        print(\"Yes\")\n",
    "    else:\n",
    "        print(\"No\")\n",
    "func()"
   ]
  },
  {
   "cell_type": "code",
   "execution_count": 29,
   "metadata": {},
   "outputs": [
    {
     "name": "stdout",
     "output_type": "stream",
     "text": [
      "45\n",
      "No\n"
     ]
    }
   ],
   "source": [
    "import math\n",
    "def factors(n):\n",
    "    bool = False\n",
    "    for i in range(2, n):\n",
    "        if n % i == 0:\n",
    "            a = i\n",
    "            b = int(n / a)\n",
    "            if prime_number(a) and prime_number(b):\n",
    "                bool = True\n",
    "                break\n",
    "    return bool\n",
    "\n",
    "\n",
    "def prime_number(m):\n",
    "    prime = True\n",
    "    for i in range(3, m):\n",
    "        if m % i == 0:\n",
    "            prime = False\n",
    "            break\n",
    "    return prime\n",
    "\n",
    "\n",
    "if __name__ == '__main__':\n",
    "    num = int(input())\n",
    "    z = math.ceil(num/2)\n",
    "    a = \"No\"\n",
    "    for i in range(1, z):\n",
    "        x = i\n",
    "        y = num - i\n",
    "        if factors(x) and factors(y):\n",
    "            a = \"Yes\"\n",
    "            break\n",
    "print(a)"
   ]
  },
  {
   "cell_type": "code",
   "execution_count": null,
   "metadata": {},
   "outputs": [],
   "source": [
    "MAX = 10000\n",
    "arr = []\n",
    "sprime = [False] * (MAX)\n",
    "def computeSemiPrime():\n",
    "    for i in range(2, MAX):\n",
    "        cnt, num, j = 0, i, 2\n",
    "        while cnt < 2 and j * j <= num:\n",
    "            while num % j == 0:\n",
    "                num /= j \n",
    "                cnt += 1\n",
    "                j += 1 \n",
    "        if num > 1:\n",
    "            cnt += 1\n",
    "        if cnt == 2:\n",
    "            sprime[i] = True\n",
    "            arr.append(i)\n",
    "\n",
    "def checkSemiPrime(n):\n",
    "    i = 0\n",
    "    while arr[i] <= n // 2:\n",
    "        if sprime[n - arr[i]] == True:\n",
    "            return True\n",
    "        i+=1\n",
    "    return False\n",
    "\n",
    "if __name__ == \"__main__\": \n",
    "    computeSemiPrime()\n",
    "    n=int(input())\n",
    "    if checkSemiPrime(n) == True:\n",
    "        print(\"Yes\") \n",
    "    else:\n",
    "        print(\"No\")"
   ]
  },
  {
   "cell_type": "code",
   "execution_count": null,
   "metadata": {},
   "outputs": [],
   "source": []
  }
 ],
 "metadata": {
  "kernelspec": {
   "display_name": "Python 3",
   "language": "python",
   "name": "python3"
  },
  "language_info": {
   "codemirror_mode": {
    "name": "ipython",
    "version": 3
   },
   "file_extension": ".py",
   "mimetype": "text/x-python",
   "name": "python",
   "nbconvert_exporter": "python",
   "pygments_lexer": "ipython3",
   "version": "3.6.5"
  }
 },
 "nbformat": 4,
 "nbformat_minor": 2
}
