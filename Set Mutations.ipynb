{
 "cells": [
  {
   "cell_type": "code",
   "execution_count": null,
   "metadata": {},
   "outputs": [],
   "source": [
    "def func():\n",
    "    n=int(input())\n",
    "    list1=set(list(map(int,input().split())))\n",
    "    N=int(input())\n",
    "    for i in range(N):\n",
    "        op,l=map(str,input().split())\n",
    "        list2=set(list(map(int,input().split())))\n",
    "        if(op=='intersection_update'):\n",
    "            list1.intersection_update(list2)\n",
    "        if(op=='update'):\n",
    "            list1.update(list2)\n",
    "        if(op=='symmetric_difference_update'):\n",
    "            list1.symmetric_difference_update(list2)\n",
    "        if(op=='difference_update'):\n",
    "            list1.difference_update(list2)\n",
    "    print(sum(list1))\n",
    "func()"
   ]
  }
 ],
 "metadata": {
  "kernelspec": {
   "display_name": "Python 3",
   "language": "python",
   "name": "python3"
  },
  "language_info": {
   "codemirror_mode": {
    "name": "ipython",
    "version": 3
   },
   "file_extension": ".py",
   "mimetype": "text/x-python",
   "name": "python",
   "nbconvert_exporter": "python",
   "pygments_lexer": "ipython3",
   "version": "3.6.5"
  }
 },
 "nbformat": 4,
 "nbformat_minor": 2
}
