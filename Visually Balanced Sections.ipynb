{
 "cells": [
  {
   "cell_type": "code",
   "execution_count": 11,
   "metadata": {},
   "outputs": [
    {
     "name": "stdout",
     "output_type": "stream",
     "text": [
      "1\n",
      "4\n",
      "1\n",
      "2\n",
      "1\n",
      "2\n",
      "[(2,), (1,)]\n",
      "[(1, 2), (1, 1), (2, 1), (2, 2)]\n",
      "[(1, 2, 1), (1, 2, 2), (2, 2, 1), (2, 1, 1), (1, 1, 2), (2, 1, 2)]\n",
      "[(1, 2, 1, 2), (1, 1, 2, 2), (2, 1, 2, 1), (2, 2, 1, 1), (2, 1, 1, 2), (1, 2, 2, 1)]\n"
     ]
    }
   ],
   "source": [
    "from itertools import permutations\n",
    "def func():\n",
    "    T=int(input())\n",
    "    l=int(input())\n",
    "    list1=[]\n",
    "    list2=[]\n",
    "    for i in range(l):\n",
    "        list1.append(int(input()))\n",
    "    for i in range(0,len(list1)):\n",
    "        list2=list(set(list(permutations(list1,i+1)))) \n",
    "        print(list2)\n",
    "\n",
    "func()"
   ]
  },
  {
   "cell_type": "markdown",
   "metadata": {},
   "source": [
    "# for j in range(0,len(s)):\n",
    "        list1=list(set(list(permutations(s,j+1))))\n",
    "        for i in range(0,len(list1)):\n",
    "            d=''.join(list1[i]) "
   ]
  }
 ],
 "metadata": {
  "kernelspec": {
   "display_name": "Python 3",
   "language": "python",
   "name": "python3"
  },
  "language_info": {
   "codemirror_mode": {
    "name": "ipython",
    "version": 3
   },
   "file_extension": ".py",
   "mimetype": "text/x-python",
   "name": "python",
   "nbconvert_exporter": "python",
   "pygments_lexer": "ipython3",
   "version": "3.6.5"
  }
 },
 "nbformat": 4,
 "nbformat_minor": 2
}
