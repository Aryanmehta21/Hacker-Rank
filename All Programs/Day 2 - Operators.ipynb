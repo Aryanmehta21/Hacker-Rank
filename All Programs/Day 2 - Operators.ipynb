{
 "cells": [
  {
   "cell_type": "code",
   "execution_count": 7,
   "metadata": {},
   "outputs": [
    {
     "name": "stdout",
     "output_type": "stream",
     "text": [
      "10.25\n",
      "17\n",
      "5\n",
      "13\n"
     ]
    }
   ],
   "source": [
    "def func():\n",
    "    meal_cost = float(input())\n",
    "    tip_percent = int(input())\n",
    "    tax_percent = int(input())\n",
    "    total_cost=meal_cost+(meal_cost*tip_percent/100)+(meal_cost*tax_percent/100)\n",
    "    print(round(total_cost))\n",
    "func()"
   ]
  },
  {
   "cell_type": "code",
   "execution_count": null,
   "metadata": {},
   "outputs": [],
   "source": []
  }
 ],
 "metadata": {
  "kernelspec": {
   "display_name": "Python 3",
   "language": "python",
   "name": "python3"
  },
  "language_info": {
   "codemirror_mode": {
    "name": "ipython",
    "version": 3
   },
   "file_extension": ".py",
   "mimetype": "text/x-python",
   "name": "python",
   "nbconvert_exporter": "python",
   "pygments_lexer": "ipython3",
   "version": "3.6.5"
  }
 },
 "nbformat": 4,
 "nbformat_minor": 2
}
