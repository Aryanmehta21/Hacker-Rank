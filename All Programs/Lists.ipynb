{
 "cells": [
  {
   "cell_type": "code",
   "execution_count": 6,
   "metadata": {},
   "outputs": [
    {
     "name": "stdout",
     "output_type": "stream",
     "text": [
      "12\n",
      "insert 0 5\n",
      "insert 1 10\n",
      "insert 0 6\n",
      "print\n",
      "remove 6\n",
      "append 9\n",
      "append 1\n",
      "sort\n",
      "print\n",
      "pop\n",
      "reverse\n",
      "print\n",
      "\n",
      "[6, 5, 10]\n",
      "[1, 5, 9, 10]\n",
      "[9, 5, 1]\n"
     ]
    }
   ],
   "source": [
    "def func():\n",
    "    n=int(input(\"\"))\n",
    "    list1=[]\n",
    "    list3=[]\n",
    "    for i in range(0,n):\n",
    "        c=input(\"\")\n",
    "        list2=list(map(str,c.split(' ')))\n",
    "        if list2[0]==\"insert\":\n",
    "            list1.insert(int(list2[1]),int(list2[2]))\n",
    "        if list2[0]==\"print\":\n",
    "            list3.append(list1[:])\n",
    "        if list2[0]==\"remove\":\n",
    "            list1.remove(int(list2[1]))\n",
    "        if list2[0]==\"append\":\n",
    "            list1.append(int(list2[1]))\n",
    "        if list2[0]==\"sort\":\n",
    "            list1.sort()\n",
    "        if list2[0]==\"pop\":\n",
    "            list1.pop()\n",
    "        if list2[0]==\"reverse\":\n",
    "            list1.reverse()\n",
    "    print(*list3,sep='\\n')\n",
    "func()"
   ]
  },
  {
   "cell_type": "code",
   "execution_count": null,
   "metadata": {},
   "outputs": [],
   "source": []
  }
 ],
 "metadata": {
  "kernelspec": {
   "display_name": "Python 3",
   "language": "python",
   "name": "python3"
  },
  "language_info": {
   "codemirror_mode": {
    "name": "ipython",
    "version": 3
   },
   "file_extension": ".py",
   "mimetype": "text/x-python",
   "name": "python",
   "nbconvert_exporter": "python",
   "pygments_lexer": "ipython3",
   "version": "3.6.5"
  }
 },
 "nbformat": 4,
 "nbformat_minor": 2
}
