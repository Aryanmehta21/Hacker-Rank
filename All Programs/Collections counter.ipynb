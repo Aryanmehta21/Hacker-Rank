{
 "cells": [
  {
   "cell_type": "code",
   "execution_count": 2,
   "metadata": {},
   "outputs": [
    {
     "name": "stdout",
     "output_type": "stream",
     "text": [
      "10\n",
      "2 3 4 5 6 8 7 6 5 18\n",
      "6\n",
      "6 55\n",
      "[2, 3, 4, 5, 5, 6, 7, 8, 18]\n",
      "6 45\n",
      "[2, 3, 4, 5, 5, 7, 8, 18]\n",
      "6 55\n",
      "[2, 3, 4, 5, 5, 7, 8, 18]\n",
      "4 40\n",
      "[2, 3, 5, 5, 7, 8, 18]\n",
      "18 60\n",
      "[2, 3, 5, 5, 7, 8]\n",
      "10 50\n",
      "[2, 3, 5, 5, 7, 8]\n",
      "1840\n"
     ]
    }
   ],
   "source": [
    "from collections import Counter\n",
    "def func():\n",
    "    X=int(input(\"\"))\n",
    "    c=input(\"\")\n",
    "    list1=[\"\"]*X\n",
    "    list1=list(map(int,c.split(' ')))\n",
    "    list1.sort()\n",
    "    N=int(input(\"\"))\n",
    "    s=0\n",
    "    for i in range(0,N):\n",
    "        d=input(\"\")\n",
    "        a,b=map(int,d.split(' '))\n",
    "        r=list1.count(a)\n",
    "        if(r>0):\n",
    "            s=s+b\n",
    "            list1.remove(a)\n",
    "    print(s)\n",
    "func()"
   ]
  },
  {
   "cell_type": "code",
   "execution_count": null,
   "metadata": {},
   "outputs": [],
   "source": []
  }
 ],
 "metadata": {
  "kernelspec": {
   "display_name": "Python 3",
   "language": "python",
   "name": "python3"
  },
  "language_info": {
   "codemirror_mode": {
    "name": "ipython",
    "version": 3
   },
   "file_extension": ".py",
   "mimetype": "text/x-python",
   "name": "python",
   "nbconvert_exporter": "python",
   "pygments_lexer": "ipython3",
   "version": "3.6.5"
  }
 },
 "nbformat": 4,
 "nbformat_minor": 2
}
