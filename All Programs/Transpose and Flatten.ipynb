{
 "cells": [
  {
   "cell_type": "code",
   "execution_count": 4,
   "metadata": {},
   "outputs": [
    {
     "name": "stdout",
     "output_type": "stream",
     "text": [
      "[[1 2]\n",
      " [3 4]\n",
      " [5 6]]\n",
      "[[1 3 5]\n",
      " [2 4 6]]\n",
      "[1 2 3 4 5 6]\n"
     ]
    }
   ],
   "source": [
    "import numpy\n",
    "def func():\n",
    "    c=input(\"\")\n",
    "    N,M=map(int,c.split())\n",
    "    a=[]\n",
    "    for i in range(0,N):\n",
    "        d=input(\"\")\n",
    "        list1=[\"\"]*M\n",
    "        list1=list(map(int,d.split()))\n",
    "        b=numpy.array(list1)\n",
    "        a.append(b)\n",
    "    a=numpy.array(a)\n",
    "    t=numpy.transpose(a)\n",
    "    t.shape=(M,N)\n",
    "    f=a.flatten()\n",
    "    print(t)\n",
    "    print(f)\n",
    "func()"
   ]
  }
 ],
 "metadata": {
  "kernelspec": {
   "display_name": "Python 3",
   "language": "python",
   "name": "python3"
  },
  "language_info": {
   "codemirror_mode": {
    "name": "ipython",
    "version": 3
   },
   "file_extension": ".py",
   "mimetype": "text/x-python",
   "name": "python",
   "nbconvert_exporter": "python",
   "pygments_lexer": "ipython3",
   "version": "3.6.5"
  }
 },
 "nbformat": 4,
 "nbformat_minor": 2
}
