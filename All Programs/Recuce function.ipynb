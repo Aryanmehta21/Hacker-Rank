{
 "cells": [
  {
   "cell_type": "code",
   "execution_count": 27,
   "metadata": {},
   "outputs": [
    {
     "name": "stdout",
     "output_type": "stream",
     "text": [
      "1 10\n"
     ]
    }
   ],
   "source": [
    "from fractions import Fraction\n",
    "from functools import reduce\n",
    "import math\n",
    "def func():\n",
    "    list1=[\"\"]*2\n",
    "    N=int(input(\"\"))\n",
    "    d=1\n",
    "    e=1\n",
    "    for i in range(0,N):\n",
    "        c=input(\"\")\n",
    "        a,b=map(int,c.split())\n",
    "        d=d*a\n",
    "        e=e*b\n",
    "    x=math.gcd(d,e)\n",
    "    list1[0]=int(d/x)\n",
    "    list1[1]=int(e/x)\n",
    "    print(*list1,sep=' ')\n",
    "func()"
   ]
  },
  {
   "cell_type": "code",
   "execution_count": null,
   "metadata": {},
   "outputs": [],
   "source": []
  }
 ],
 "metadata": {
  "kernelspec": {
   "display_name": "Python 3",
   "language": "python",
   "name": "python3"
  },
  "language_info": {
   "codemirror_mode": {
    "name": "ipython",
    "version": 3
   },
   "file_extension": ".py",
   "mimetype": "text/x-python",
   "name": "python",
   "nbconvert_exporter": "python",
   "pygments_lexer": "ipython3",
   "version": "3.6.5"
  }
 },
 "nbformat": 4,
 "nbformat_minor": 2
}
