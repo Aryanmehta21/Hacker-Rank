{
 "cells": [
  {
   "cell_type": "code",
   "execution_count": 11,
   "metadata": {},
   "outputs": [
    {
     "name": "stdout",
     "output_type": "stream",
     "text": [
      "[[1 2]\n",
      " [1 2]\n",
      " [1 2]\n",
      " [1 2]\n",
      " [3 4]\n",
      " [3 4]\n",
      " [3 4]]\n"
     ]
    }
   ],
   "source": [
    "import numpy\n",
    "def prg():\n",
    "    c=input(\"\")\n",
    "    N,M,P=map(int,c.split())\n",
    "    c=[]\n",
    "    d=[]\n",
    "    for i in range(0,N):\n",
    "        r=input(\"\")\n",
    "        list1=[\"\"]*P\n",
    "        list1=list(map(int,r.split()))\n",
    "        a=numpy.array(list1)\n",
    "        c.append(a)\n",
    "    for j in range(0,M):\n",
    "        r=input(\"\")\n",
    "        list2=[\"\"]*P\n",
    "        list2=list(map(int,r.split()))\n",
    "        b=numpy.array(list2)\n",
    "        d.append(b)\n",
    "    print(numpy.concatenate((c,d)))\n",
    "prg()"
   ]
  },
  {
   "cell_type": "code",
   "execution_count": null,
   "metadata": {},
   "outputs": [],
   "source": []
  }
 ],
 "metadata": {
  "kernelspec": {
   "display_name": "Python 3",
   "language": "python",
   "name": "python3"
  },
  "language_info": {
   "codemirror_mode": {
    "name": "ipython",
    "version": 3
   },
   "file_extension": ".py",
   "mimetype": "text/x-python",
   "name": "python",
   "nbconvert_exporter": "python",
   "pygments_lexer": "ipython3",
   "version": "3.6.5"
  }
 },
 "nbformat": 4,
 "nbformat_minor": 2
}
