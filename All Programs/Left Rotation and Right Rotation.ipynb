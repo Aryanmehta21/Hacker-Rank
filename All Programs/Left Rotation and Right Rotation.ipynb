{
 "cells": [
  {
   "cell_type": "code",
   "execution_count": 6,
   "metadata": {},
   "outputs": [
    {
     "name": "stdout",
     "output_type": "stream",
     "text": [
      "5 4\n",
      "1 2 3 4 5\n",
      "5 1 2 3 4\n"
     ]
    }
   ],
   "source": [
    "def func():\n",
    "    c=input()\n",
    "    n,d=map(int,c.split())\n",
    "    list1=[\"\"]*n\n",
    "    e=input()\n",
    "    list1=list(map(int,e.split()))\n",
    "    list1=(list1[d:] + list1[:d]) \n",
    "    print(*list1,sep=' ')\n",
    "func()\n",
    "# left rotation"
   ]
  },
  {
   "cell_type": "code",
   "execution_count": null,
   "metadata": {},
   "outputs": [],
   "source": [
    "def func():\n",
    "    c=input()\n",
    "    n,d=map(int,c.split())\n",
    "    list1=[\"\"]*n\n",
    "    e=input()\n",
    "    list1=list(map(int,e.split()))\n",
    "    list1=(list1[-d:] + list1[:-d]) \n",
    "    print(*list1,sep=' ')\n",
    "func()\n",
    "#right rotation"
   ]
  }
 ],
 "metadata": {
  "kernelspec": {
   "display_name": "Python 3",
   "language": "python",
   "name": "python3"
  },
  "language_info": {
   "codemirror_mode": {
    "name": "ipython",
    "version": 3
   },
   "file_extension": ".py",
   "mimetype": "text/x-python",
   "name": "python",
   "nbconvert_exporter": "python",
   "pygments_lexer": "ipython3",
   "version": "3.6.5"
  }
 },
 "nbformat": 4,
 "nbformat_minor": 2
}
