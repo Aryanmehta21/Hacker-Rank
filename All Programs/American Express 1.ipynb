{
 "cells": [
  {
   "cell_type": "code",
   "execution_count": 34,
   "metadata": {},
   "outputs": [
    {
     "name": "stdout",
     "output_type": "stream",
     "text": [
      "1\n",
      "3 2\n",
      "5 6 7\n",
      "2\n"
     ]
    }
   ],
   "source": [
    "from itertools import combinations\n",
    "def func():\n",
    "    T=int(input())\n",
    "    for i in range(T):\n",
    "        N,P=map(int,input().split())\n",
    "        list1=list(map(int,input().split()))\n",
    "        c=list1[0]\n",
    "        for k in range(2,N):\n",
    "            list3=list(set(list(combinations(list1,k))))\n",
    "            for j in range(len(list3)):\n",
    "                d=(list3[j][0] & list3[j][1])\n",
    "                if d<c:\n",
    "                    c=d\n",
    "        print(abs(c-P))\n",
    "func()"
   ]
  },
  {
   "cell_type": "code",
   "execution_count": 3,
   "metadata": {},
   "outputs": [
    {
     "name": "stdout",
     "output_type": "stream",
     "text": [
      "2\n",
      "3 2\n",
      "5 6 7\n",
      "2\n",
      "1 1\n",
      "4\n",
      "2\n"
     ]
    }
   ],
   "source": [
    "import numpy\n",
    "def func():\n",
    "    T=int(input())\n",
    "    for i in range(T):\n",
    "        N,P=map(int,input().split())\n",
    "        list1=list(set(list(map(int,input().split()))))\n",
    "        c=list1[0]\n",
    "        for k in range(1,N):\n",
    "            for j in range(len(list1)-i,i):\n",
    "                if list1[j]<=list1[j+i]:\n",
    "                    if (numpy.bitwise_and(list1[j:j+i]))<c:\n",
    "                        c=numpy.bitwise_and(list1[j:j+i])\n",
    "        print(abs(c-P))\n",
    "func()"
   ]
  },
  {
   "cell_type": "code",
   "execution_count": 53,
   "metadata": {},
   "outputs": [
    {
     "data": {
      "text/plain": [
       "6"
      ]
     },
     "execution_count": 53,
     "metadata": {},
     "output_type": "execute_result"
    }
   ],
   "source": [
    "6&7"
   ]
  },
  {
   "cell_type": "code",
   "execution_count": 40,
   "metadata": {},
   "outputs": [
    {
     "data": {
      "text/plain": [
       "2"
      ]
     },
     "execution_count": 40,
     "metadata": {},
     "output_type": "execute_result"
    }
   ],
   "source": [
    "2&2"
   ]
  },
  {
   "cell_type": "code",
   "execution_count": 41,
   "metadata": {},
   "outputs": [
    {
     "data": {
      "text/plain": [
       "3"
      ]
     },
     "execution_count": 41,
     "metadata": {},
     "output_type": "execute_result"
    }
   ],
   "source": [
    "3&3"
   ]
  },
  {
   "cell_type": "code",
   "execution_count": null,
   "metadata": {},
   "outputs": [],
   "source": []
  }
 ],
 "metadata": {
  "kernelspec": {
   "display_name": "Python 3",
   "language": "python",
   "name": "python3"
  },
  "language_info": {
   "codemirror_mode": {
    "name": "ipython",
    "version": 3
   },
   "file_extension": ".py",
   "mimetype": "text/x-python",
   "name": "python",
   "nbconvert_exporter": "python",
   "pygments_lexer": "ipython3",
   "version": "3.6.5"
  }
 },
 "nbformat": 4,
 "nbformat_minor": 2
}
