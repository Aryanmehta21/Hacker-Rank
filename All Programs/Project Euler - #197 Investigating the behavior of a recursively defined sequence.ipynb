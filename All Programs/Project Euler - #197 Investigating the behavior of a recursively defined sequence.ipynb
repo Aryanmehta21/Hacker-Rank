{
 "cells": [
  {
   "cell_type": "code",
   "execution_count": 1,
   "metadata": {},
   "outputs": [
    {
     "name": "stdout",
     "output_type": "stream",
     "text": [
      "0 30\n",
      "1.073741824\n"
     ]
    }
   ],
   "source": [
    "import math\n",
    "def func():\n",
    "    c=input()\n",
    "    u0,b=map(float,c.split())\n",
    "    d=math.floor(math.pow(2,(b-(u*u))))\n",
    "    d=d*math.pow(10,-9)\n",
    "    print(d)\n",
    "func()"
   ]
  },
  {
   "cell_type": "code",
   "execution_count": null,
   "metadata": {},
   "outputs": [],
   "source": []
  }
 ],
 "metadata": {
  "kernelspec": {
   "display_name": "Python 3",
   "language": "python",
   "name": "python3"
  },
  "language_info": {
   "codemirror_mode": {
    "name": "ipython",
    "version": 3
   },
   "file_extension": ".py",
   "mimetype": "text/x-python",
   "name": "python",
   "nbconvert_exporter": "python",
   "pygments_lexer": "ipython3",
   "version": "3.6.5"
  }
 },
 "nbformat": 4,
 "nbformat_minor": 2
}
