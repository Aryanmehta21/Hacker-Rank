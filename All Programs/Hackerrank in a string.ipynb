{
 "cells": [
  {
   "cell_type": "code",
   "execution_count": 46,
   "metadata": {},
   "outputs": [
    {
     "name": "stdout",
     "output_type": "stream",
     "text": [
      "1\n",
      "hacakaeararanaka\n",
      "YES\n"
     ]
    }
   ],
   "source": [
    "def func():\n",
    "    T=int(input())\n",
    "    list2=list('hackerrank')\n",
    "    list3=[]\n",
    "    for i in range(T):\n",
    "        list1=list(input())\n",
    "        k=0\n",
    "        for j in range(0,len(list1)):\n",
    "            if list1[j]==list2[k]:\n",
    "                k+=1\n",
    "            if k==len(list2):\n",
    "                break\n",
    "        if k==len(list2):\n",
    "            list3.append(\"YES\")\n",
    "        else:\n",
    "            list3.append(\"NO\")\n",
    "    print(*list3,sep='\\n')\n",
    "func()"
   ]
  },
  {
   "cell_type": "code",
   "execution_count": 22,
   "metadata": {},
   "outputs": [
    {
     "name": "stdout",
     "output_type": "stream",
     "text": [
      "1\n",
      "rhbaasdndfsdskgbfefdbrsdfhuyatrjtcrtyytktjjt\n",
      "YES\n"
     ]
    }
   ],
   "source": [
    "\n",
    "def func():\n",
    "    q=int(input())\n",
    "    p='hackerrank'\n",
    "    m=[]\n",
    "    for i in range(q):\n",
    "        s=input()\n",
    "        for i,j in zip(range(len(p)),range(len(s))):\n",
    "            if(p[i]==s[j]):\n",
    "                pass\n",
    "            else:\n",
    "                i=i-1\n",
    "                if(j==len(s)):\n",
    "                    break\n",
    "        if(j==len(s)and i<len(p)):\n",
    "            m.append(\"NO\")\n",
    "        else:\n",
    "            m.append(\"YES\")\n",
    "    print(*m,sep='\\n')\n",
    "func()\n"
   ]
  },
  {
   "cell_type": "code",
   "execution_count": null,
   "metadata": {},
   "outputs": [],
   "source": []
  }
 ],
 "metadata": {
  "kernelspec": {
   "display_name": "Python 3",
   "language": "python",
   "name": "python3"
  },
  "language_info": {
   "codemirror_mode": {
    "name": "ipython",
    "version": 3
   },
   "file_extension": ".py",
   "mimetype": "text/x-python",
   "name": "python",
   "nbconvert_exporter": "python",
   "pygments_lexer": "ipython3",
   "version": "3.6.5"
  }
 },
 "nbformat": 4,
 "nbformat_minor": 2
}
