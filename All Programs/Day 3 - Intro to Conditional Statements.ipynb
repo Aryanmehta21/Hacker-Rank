{
 "cells": [
  {
   "cell_type": "code",
   "execution_count": null,
   "metadata": {},
   "outputs": [],
   "source": [
    "def func():\n",
    "    N=int(input())\n",
    "    if N%2!=0:\n",
    "        print(\"Weird\")\n",
    "    else:\n",
    "        if N>=2 and N<6:\n",
    "            print(\"Not Weird\")\n",
    "        if N>=6 and N<22:\n",
    "            print(\"Weird\")\n",
    "        if N>21:\n",
    "            print(\"Not Weird\")\n",
    "func()"
   ]
  }
 ],
 "metadata": {
  "kernelspec": {
   "display_name": "Python 3",
   "language": "python",
   "name": "python3"
  },
  "language_info": {
   "codemirror_mode": {
    "name": "ipython",
    "version": 3
   },
   "file_extension": ".py",
   "mimetype": "text/x-python",
   "name": "python",
   "nbconvert_exporter": "python",
   "pygments_lexer": "ipython3",
   "version": "3.6.5"
  }
 },
 "nbformat": 4,
 "nbformat_minor": 2
}
