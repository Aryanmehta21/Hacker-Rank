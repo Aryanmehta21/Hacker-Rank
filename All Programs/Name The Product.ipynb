{
 "cells": [
  {
   "cell_type": "code",
   "execution_count": 22,
   "metadata": {},
   "outputs": [
    {
     "name": "stdout",
     "output_type": "stream",
     "text": [
      "3\n",
      "ready\n",
      "stedy\n",
      "zebra\n",
      "yzzzz\n"
     ]
    }
   ],
   "source": [
    "def func():\n",
    "    N=int(input())\n",
    "    list1=list(input())\n",
    "    list3=[]\n",
    "    for i in range(1,N):\n",
    "        list2=list(input())\n",
    "        list1 = [''.join(i) for i in zip(list1,list2)]\n",
    "    for i in range(5):\n",
    "        d=122\n",
    "        for j in range(N):\n",
    "            if(ord(list1[i][j])==d):\n",
    "                d=d-1\n",
    "        list3.append(chr(d))\n",
    "    print(*list3,sep='')\n",
    "func()"
   ]
  },
  {
   "cell_type": "code",
   "execution_count": 20,
   "metadata": {},
   "outputs": [
    {
     "name": "stdout",
     "output_type": "stream",
     "text": [
      "y\n"
     ]
    }
   ],
   "source": [
    "c='z'\n",
    "if ('z'==c):\n",
    "    a=ord(c)\n",
    "    a=a-1\n",
    "    print(chr(a))"
   ]
  },
  {
   "cell_type": "code",
   "execution_count": null,
   "metadata": {},
   "outputs": [],
   "source": []
  }
 ],
 "metadata": {
  "kernelspec": {
   "display_name": "Python 3",
   "language": "python",
   "name": "python3"
  },
  "language_info": {
   "codemirror_mode": {
    "name": "ipython",
    "version": 3
   },
   "file_extension": ".py",
   "mimetype": "text/x-python",
   "name": "python",
   "nbconvert_exporter": "python",
   "pygments_lexer": "ipython3",
   "version": "3.6.5"
  }
 },
 "nbformat": 4,
 "nbformat_minor": 2
}
