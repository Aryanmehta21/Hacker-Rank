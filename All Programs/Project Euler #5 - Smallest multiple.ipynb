{
 "cells": [
  {
   "cell_type": "code",
   "execution_count": 3,
   "metadata": {},
   "outputs": [
    {
     "name": "stdout",
     "output_type": "stream",
     "text": [
      "2\n",
      "3\n",
      "10\n",
      "6\n",
      "2520\n"
     ]
    }
   ],
   "source": [
    "from math import gcd\n",
    "def func():\n",
    "    T=int(input())\n",
    "    list1=[\"\"]*T\n",
    "    for i in range(0,T):\n",
    "        N=int(input())\n",
    "        lcm=1\n",
    "        for j in range(1,N+1):\n",
    "            lcm=int(lcm*j/gcd(lcm,j))\n",
    "        list1[i]=lcm\n",
    "    print(*list1,sep='\\n')\n",
    "func()"
   ]
  }
 ],
 "metadata": {
  "kernelspec": {
   "display_name": "Python 3",
   "language": "python",
   "name": "python3"
  },
  "language_info": {
   "codemirror_mode": {
    "name": "ipython",
    "version": 3
   },
   "file_extension": ".py",
   "mimetype": "text/x-python",
   "name": "python",
   "nbconvert_exporter": "python",
   "pygments_lexer": "ipython3",
   "version": "3.6.5"
  }
 },
 "nbformat": 4,
 "nbformat_minor": 2
}
