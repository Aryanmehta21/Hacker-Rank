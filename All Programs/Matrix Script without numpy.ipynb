{
 "cells": [
  {
   "cell_type": "code",
   "execution_count": 15,
   "metadata": {},
   "outputs": [
    {
     "name": "stdout",
     "output_type": "stream",
     "text": [
      "This isMatrix scrpt&%!&\n"
     ]
    }
   ],
   "source": [
    "import itertools\n",
    "import re\n",
    "def func():\n",
    "    a=input(\"\")\n",
    "    N,M=map(int,a.split())\n",
    "    list1=[\"\"]*3\n",
    "    list2=[]\n",
    "    for i in range(0,N):\n",
    "        b=input(\"\")\n",
    "        list1=list(b)\n",
    "        list2.append(list1)\n",
    "    list2=list(zip(*list2))\n",
    "    list2=(list(itertools.chain.from_iterable(list2)))\n",
    "    list2.insert(0,' ')\n",
    "    list2.insert(len(list2)+1,' ')\n",
    "    list3=[]\n",
    "    list4=[]\n",
    "    \n",
    "#     y = ( x > 6 ) ? 8 : 27\n",
    "    for j in range(1,(N*M)+1):\n",
    "        if (list2[j].isalnum()==True):\n",
    "            if len(list4)>0:\n",
    "                list3.append(' ')\n",
    "                list4=[]\n",
    "            list3.append(list2[j])\n",
    "        else:\n",
    "            list4.append(list2[j])\n",
    "            \n",
    "    if len(list4)>0:\n",
    "        list3.extend(list4)\n",
    "    print(*list3,sep='')\n",
    "func()"
   ]
  },
  {
   "cell_type": "code",
   "execution_count": null,
   "metadata": {},
   "outputs": [],
   "source": []
  }
 ],
 "metadata": {
  "kernelspec": {
   "display_name": "Python 3",
   "language": "python",
   "name": "python3"
  },
  "language_info": {
   "codemirror_mode": {
    "name": "ipython",
    "version": 3
   },
   "file_extension": ".py",
   "mimetype": "text/x-python",
   "name": "python",
   "nbconvert_exporter": "python",
   "pygments_lexer": "ipython3",
   "version": "3.6.5"
  }
 },
 "nbformat": 4,
 "nbformat_minor": 2
}
