{
 "cells": [
  {
   "cell_type": "code",
   "execution_count": 21,
   "metadata": {},
   "outputs": [
    {
     "name": "stdout",
     "output_type": "stream",
     "text": [
      "2\n",
      "10\n",
      "17\n",
      "5\n",
      "17\n"
     ]
    }
   ],
   "source": [
    "import math\n",
    "def func(): \n",
    "    \n",
    "    T=int(input())\n",
    "    list1=[\"\"]*T\n",
    "    for i in range(0,T):\n",
    "        n=int(input())\n",
    "        list2=[]\n",
    "        while n % 2 == 0: \n",
    "            list2.append(int(n))\n",
    "            n = n / 2\n",
    "            \n",
    "        for j in range(3,int(math.sqrt(n))+1,2): \n",
    "                while n % j== 0: \n",
    "                    list2.append(j)\n",
    "                    n = n / i  \n",
    "        \n",
    "        if n > 2: \n",
    "            list2.append(int(n))\n",
    "        \n",
    "        x=list2[len(list2)-1]\n",
    "        list1[i]=x\n",
    "    print(*list1,sep='\\n')\n",
    "func()"
   ]
  },
  {
   "cell_type": "code",
   "execution_count": null,
   "metadata": {},
   "outputs": [],
   "source": []
  }
 ],
 "metadata": {
  "kernelspec": {
   "display_name": "Python 3",
   "language": "python",
   "name": "python3"
  },
  "language_info": {
   "codemirror_mode": {
    "name": "ipython",
    "version": 3
   },
   "file_extension": ".py",
   "mimetype": "text/x-python",
   "name": "python",
   "nbconvert_exporter": "python",
   "pygments_lexer": "ipython3",
   "version": "3.6.5"
  }
 },
 "nbformat": 4,
 "nbformat_minor": 2
}
