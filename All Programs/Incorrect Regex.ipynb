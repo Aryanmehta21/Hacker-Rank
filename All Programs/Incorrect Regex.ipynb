{
 "cells": [
  {
   "cell_type": "code",
   "execution_count": null,
   "metadata": {},
   "outputs": [],
   "source": [
    "import re\n",
    "def func():\n",
    "    list1=[]\n",
    "    T=int(input())\n",
    "    for i in range(T):\n",
    "        c=input()\n",
    "        d=\"True\"\n",
    "        try:\n",
    "            reg=re.compile(c)\n",
    "        except re.error:\n",
    "            d=\"False\"\n",
    "        list1.append(d)\n",
    "    print(*list1,sep='\\n')\n",
    "func()"
   ]
  }
 ],
 "metadata": {
  "kernelspec": {
   "display_name": "Python 3",
   "language": "python",
   "name": "python3"
  },
  "language_info": {
   "codemirror_mode": {
    "name": "ipython",
    "version": 3
   },
   "file_extension": ".py",
   "mimetype": "text/x-python",
   "name": "python",
   "nbconvert_exporter": "python",
   "pygments_lexer": "ipython3",
   "version": "3.6.5"
  }
 },
 "nbformat": 4,
 "nbformat_minor": 2
}
