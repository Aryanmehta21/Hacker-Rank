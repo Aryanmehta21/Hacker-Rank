{
 "cells": [
  {
   "cell_type": "code",
   "execution_count": 2,
   "metadata": {},
   "outputs": [
    {
     "name": "stdout",
     "output_type": "stream",
     "text": [
      "10\n",
      "0 1 2 3 4 5 6 7 8 9\n",
      "15\n",
      "remove 1\n",
      "pop\n",
      "pop\n",
      "discard 2\n",
      "discard 3\n",
      "discard 4\n",
      "discard 1\n",
      "remove 5\n",
      "pop\n",
      "discard 6\n",
      "discard 1\n",
      "discard 8\n",
      "discard 0\n",
      "discard 9\n",
      "pop\n",
      "\n"
     ]
    }
   ],
   "source": [
    "def func():\n",
    "    n=int(input())\n",
    "    list1=set(list(map(int,input().split())))\n",
    "    N=int(input())\n",
    "    for i in range(0,N):\n",
    "        list2=list(map(str,input().split()))\n",
    "        if list2[0]=='discard':\n",
    "            list1.discard(int(list2[1]))\n",
    "        try:\n",
    "            if list2[0]=='pop':\n",
    "                list1.pop()\n",
    "            if list2[0]=='remove':\n",
    "                 list1.remove(int(list2[1]))\n",
    "        except KeyError as e:\n",
    "            pass\n",
    "    print(sum(list1))\n",
    "func()"
   ]
  },
  {
   "cell_type": "code",
   "execution_count": null,
   "metadata": {
    "collapsed": true
   },
   "outputs": [],
   "source": []
  }
 ],
 "metadata": {
  "kernelspec": {
   "display_name": "Python 3",
   "language": "python",
   "name": "python3"
  },
  "language_info": {
   "codemirror_mode": {
    "name": "ipython",
    "version": 3
   },
   "file_extension": ".py",
   "mimetype": "text/x-python",
   "name": "python",
   "nbconvert_exporter": "python",
   "pygments_lexer": "ipython3",
   "version": "3.6.5"
  }
 },
 "nbformat": 4,
 "nbformat_minor": 2
}
