{
 "cells": [
  {
   "cell_type": "code",
   "execution_count": 17,
   "metadata": {},
   "outputs": [
    {
     "name": "stdout",
     "output_type": "stream",
     "text": [
      "36.0\n",
      "pallavi\n"
     ]
    }
   ],
   "source": [
    "def func():\n",
    "    N=int(input(\"\"))\n",
    "    list1=[]\n",
    "    list2=[]\n",
    "    list3=[]\n",
    "    list4=[]\n",
    "    list5=[]\n",
    "    for i in range(0,N):\n",
    "        c=input(\"\")\n",
    "        d=float(input(\"\"))\n",
    "        list1.append(c)\n",
    "        list2.append(d)\n",
    "    list3=list(zip(list2,list1))\n",
    "    list3.sort()\n",
    "    list2.sort()\n",
    "    list4=list(set(list2))\n",
    "    list4.sort()\n",
    "    a=list4[1]\n",
    "    for j in range(0,N):\n",
    "        if list3[j][0]==a:\n",
    "            list5.append(list3[j][1])\n",
    "    print(*list5,sep='\\n')\n",
    "func()"
   ]
  },
  {
   "cell_type": "code",
   "execution_count": null,
   "metadata": {},
   "outputs": [],
   "source": []
  }
 ],
 "metadata": {
  "kernelspec": {
   "display_name": "Python 3",
   "language": "python",
   "name": "python3"
  },
  "language_info": {
   "codemirror_mode": {
    "name": "ipython",
    "version": 3
   },
   "file_extension": ".py",
   "mimetype": "text/x-python",
   "name": "python",
   "nbconvert_exporter": "python",
   "pygments_lexer": "ipython3",
   "version": "3.6.5"
  }
 },
 "nbformat": 4,
 "nbformat_minor": 2
}
