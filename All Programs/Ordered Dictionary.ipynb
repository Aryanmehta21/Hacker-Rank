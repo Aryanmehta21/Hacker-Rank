{
 "cells": [
  {
   "cell_type": "code",
   "execution_count": 14,
   "metadata": {},
   "outputs": [
    {
     "name": "stdout",
     "output_type": "stream",
     "text": [
      "4\n",
      "anshuman 1\n",
      "anshuman 1\n",
      "zehel 9\n",
      "zehel 9\n",
      "[('anshuman', 1), ('zehel', 9)]\n"
     ]
    }
   ],
   "source": [
    "from collections import OrderedDict\n",
    "n=int(input())\n",
    "d={}\n",
    "for i in range(0,n):\n",
    "    e,p=map(str,input().split())\n",
    "    d[e] = int(p)\n"
   ]
  },
  {
   "cell_type": "markdown",
   "metadata": {},
   "source": [
    "#### "
   ]
  }
 ],
 "metadata": {
  "kernelspec": {
   "display_name": "Python 3",
   "language": "python",
   "name": "python3"
  },
  "language_info": {
   "codemirror_mode": {
    "name": "ipython",
    "version": 3
   },
   "file_extension": ".py",
   "mimetype": "text/x-python",
   "name": "python",
   "nbconvert_exporter": "python",
   "pygments_lexer": "ipython3",
   "version": "3.6.5"
  }
 },
 "nbformat": 4,
 "nbformat_minor": 2
}
