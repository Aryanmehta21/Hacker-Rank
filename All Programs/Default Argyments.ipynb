{
 "cells": [
  {
   "cell_type": "code",
   "execution_count": null,
   "metadata": {},
   "outputs": [],
   "source": [
    "def func():\n",
    "    q=int(input(\"\"))\n",
    "    list2=[]\n",
    "    for i in range(0,q):\n",
    "        c=input(\"\")\n",
    "        x,y=map(str,c.split())\n",
    "        y=int(y)\n",
    "        if x==\"odd\":\n",
    "            x1=1\n",
    "            for j in range(0,y):\n",
    "                list2.append(x1)\n",
    "                x1=x1+2\n",
    "        else:\n",
    "            x2=0\n",
    "            for j in range(0,y):\n",
    "                list2.append(x2)\n",
    "                x2=x2+2\n",
    "    print(*list2,sep='\\n')\n",
    "func()"
   ]
  }
 ],
 "metadata": {
  "kernelspec": {
   "display_name": "Python 3",
   "language": "python",
   "name": "python3"
  },
  "language_info": {
   "codemirror_mode": {
    "name": "ipython",
    "version": 3
   },
   "file_extension": ".py",
   "mimetype": "text/x-python",
   "name": "python",
   "nbconvert_exporter": "python",
   "pygments_lexer": "ipython3",
   "version": "3.6.5"
  }
 },
 "nbformat": 4,
 "nbformat_minor": 2
}
