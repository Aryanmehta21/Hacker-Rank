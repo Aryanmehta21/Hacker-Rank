{
 "cells": [
  {
   "cell_type": "code",
   "execution_count": 4,
   "metadata": {},
   "outputs": [
    {
     "name": "stdout",
     "output_type": "stream",
     "text": [
      "3 4\n",
      "1000 100 100 100\n",
      "150.0\n"
     ]
    }
   ],
   "source": [
    "import math\n",
    "def func():\n",
    "    c=input()\n",
    "    n,k=map(int,c.split())\n",
    "    list1=[\"\"]*k\n",
    "    d=input()\n",
    "    list1=list(map(int,d.split()))\n",
    "    list2=list(set(list1))\n",
    "    list2.sort()\n",
    "    s=0\n",
    "    for i in range(0,len(list2)-1):\n",
    "        y=list1.count(list2[i])\n",
    "        z=list2[i]*y\n",
    "        s=s+(z/2)    \n",
    "    print(s)\n",
    "func()"
   ]
  },
  {
   "cell_type": "code",
   "execution_count": null,
   "metadata": {},
   "outputs": [],
   "source": []
  }
 ],
 "metadata": {
  "kernelspec": {
   "display_name": "Python 3",
   "language": "python",
   "name": "python3"
  },
  "language_info": {
   "codemirror_mode": {
    "name": "ipython",
    "version": 3
   },
   "file_extension": ".py",
   "mimetype": "text/x-python",
   "name": "python",
   "nbconvert_exporter": "python",
   "pygments_lexer": "ipython3",
   "version": "3.6.5"
  }
 },
 "nbformat": 4,
 "nbformat_minor": 2
}
