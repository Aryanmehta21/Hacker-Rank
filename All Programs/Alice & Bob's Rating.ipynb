{
 "cells": [
  {
   "cell_type": "code",
   "execution_count": 3,
   "metadata": {},
   "outputs": [
    {
     "name": "stdout",
     "output_type": "stream",
     "text": [
      "5 6 7\n",
      " 3 6 10\n",
      "1 1\n"
     ]
    }
   ],
   "source": [
    "def func():\n",
    "    c=input(\"\")\n",
    "    list1=[\"\"]*3\n",
    "    list1=list(map(int,c.split()))\n",
    "    d=input(\"\")\n",
    "    list2=[\"\"]*3\n",
    "    list2=list(map(int,d.split()))\n",
    "    a=0\n",
    "    b=0\n",
    "    for i in range(0,3):\n",
    "        if list1[i]>list2[i]:\n",
    "            a=a+1\n",
    "        if list1[i]<list2[i]:\n",
    "            b=b+1\n",
    "    print(a,b,sep=' ')\n",
    "func()"
   ]
  },
  {
   "cell_type": "code",
   "execution_count": null,
   "metadata": {},
   "outputs": [],
   "source": []
  }
 ],
 "metadata": {
  "kernelspec": {
   "display_name": "Python 3",
   "language": "python",
   "name": "python3"
  },
  "language_info": {
   "codemirror_mode": {
    "name": "ipython",
    "version": 3
   },
   "file_extension": ".py",
   "mimetype": "text/x-python",
   "name": "python",
   "nbconvert_exporter": "python",
   "pygments_lexer": "ipython3",
   "version": "3.6.5"
  }
 },
 "nbformat": 4,
 "nbformat_minor": 2
}
