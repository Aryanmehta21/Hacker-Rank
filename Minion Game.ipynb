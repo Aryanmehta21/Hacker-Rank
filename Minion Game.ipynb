{
 "cells": [
  {
   "cell_type": "code",
   "execution_count": 2,
   "metadata": {},
   "outputs": [
    {
     "name": "stdout",
     "output_type": "stream",
     "text": [
      "ANANAS\n",
      "Kevin 12\n"
     ]
    }
   ],
   "source": [
    "from itertools import permutations\n",
    "def minion_game(s):\n",
    "    c=0\n",
    "    e=0\n",
    "    for j in range(0,len(s)):\n",
    "        list1=list(set(list(permutations(s,j+1))))\n",
    "        for i in range(0,len(list1)):\n",
    "            d=''.join(list1[i]) \n",
    "            if d in s:\n",
    "                if (d[0]=='a' or d[0]=='e' or d[0]=='i' or d[0]=='o' or d[0]=='u' or d[0]=='A' or d[0]=='O' or d[0]=='E' or d[0]=='I' or d[0]=='U'):\n",
    "                    e=e+(s.count(d))\n",
    "                else:\n",
    "                    c=c+(s.count(d))\n",
    "    e=e+1\n",
    "    if (c>e):\n",
    "        print(\"Stuart\",c)\n",
    "    elif(e>c):\n",
    "        print(\"Kevin\",e)\n",
    "    else:\n",
    "        print(\"Draw\")\n",
    "if __name__ == '__main__':\n",
    "    s = input()\n",
    "    minion_game(s)"
   ]
  },
  {
   "cell_type": "code",
   "execution_count": 5,
   "metadata": {},
   "outputs": [
    {
     "name": "stdout",
     "output_type": "stream",
     "text": [
      "BANANA\n",
      "Stuart 12\n"
     ]
    }
   ],
   "source": [
    "s =input()\n",
    "\n",
    "vowels = 'AEIOU'\n",
    "\n",
    "kevsc = 0\n",
    "stusc = 0\n",
    "for i in range(len(s)):\n",
    "    if s[i] in vowels:\n",
    "        kevsc += (len(s)-i)\n",
    "    else:\n",
    "        stusc += (len(s)-i)\n",
    "\n",
    "if kevsc > stusc:\n",
    "    print (\"Kevin\", kevsc)\n",
    "elif kevsc < stusc:\n",
    "    print (\"Stuart\", stusc)\n",
    "else:\n",
    "    print(\"Draw\")"
   ]
  },
  {
   "cell_type": "code",
   "execution_count": null,
   "metadata": {},
   "outputs": [],
   "source": []
  }
 ],
 "metadata": {
  "kernelspec": {
   "display_name": "Python 3",
   "language": "python",
   "name": "python3"
  },
  "language_info": {
   "codemirror_mode": {
    "name": "ipython",
    "version": 3
   },
   "file_extension": ".py",
   "mimetype": "text/x-python",
   "name": "python",
   "nbconvert_exporter": "python",
   "pygments_lexer": "ipython3",
   "version": "3.6.5"
  }
 },
 "nbformat": 4,
 "nbformat_minor": 2
}
