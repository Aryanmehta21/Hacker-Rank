{
 "cells": [
  {
   "cell_type": "code",
   "execution_count": 6,
   "metadata": {},
   "outputs": [
    {
     "name": "stdout",
     "output_type": "stream",
     "text": [
      "['Harry', 'Berry', 'Tina', 'Akriti', 'Harsh']\n",
      "[37.2, 37.21, 37.21, 39.0, 41.0]\n",
      "['Harry', 'Berry', 'Tina', 'Akriti', 'Harsh']\n",
      "[37.2, 37.21, 37.21, 39.0, 41.0]\n",
      "['Harry', 'Berry', 'Tina', 'Akriti', 'Harsh']\n",
      "[37.2, 37.21, 37.21, 39.0, 41.0]\n",
      "['Harry', 'Berry', 'Tina', 'Akriti', 'Harsh']\n",
      "[37.2, 37.21, 37.21, 39.0, 41.0]\n",
      "['Harry', 'Berry', 'Tina', 'Akriti', 'Harsh']\n",
      "[37.2, 37.21, 37.21, 39.0, 41.0]\n",
      "Berry\n",
      "Tina\n"
     ]
    }
   ],
   "source": [
    "def func():\n",
    "    N=int(input(\"\"))\n",
    "    list1=[]\n",
    "    list2=[]\n",
    "    list3=[]\n",
    "    list4=[]\n",
    "    for i in range(0,N):\n",
    "        c=input(\"\")\n",
    "        d=float(input(\"\"))\n",
    "        list1.append(c)\n",
    "        list2.append(d)\n",
    "    list3=list2\n",
    "    list3.sort()\n",
    "    list3=list(set(list3))\n",
    "    a=list3[1]\n",
    "    for j in range(0,N):\n",
    "        if list2[j]==a:\n",
    "            list4.append(list1[j])\n",
    "    list4.sort()\n",
    "    print(*list4,sep='\\n')\n",
    "func()"
   ]
  },
  {
   "cell_type": "code",
   "execution_count": null,
   "metadata": {},
   "outputs": [],
   "source": []
  }
 ],
 "metadata": {
  "kernelspec": {
   "display_name": "Python 3",
   "language": "python",
   "name": "python3"
  },
  "language_info": {
   "codemirror_mode": {
    "name": "ipython",
    "version": 3
   },
   "file_extension": ".py",
   "mimetype": "text/x-python",
   "name": "python",
   "nbconvert_exporter": "python",
   "pygments_lexer": "ipython3",
   "version": "3.6.5"
  }
 },
 "nbformat": 4,
 "nbformat_minor": 2
}
