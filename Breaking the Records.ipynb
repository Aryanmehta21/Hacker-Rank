{
 "cells": [
  {
   "cell_type": "code",
   "execution_count": 1,
   "metadata": {},
   "outputs": [
    {
     "name": "stdout",
     "output_type": "stream",
     "text": [
      "10\n",
      "3 4 21 36 10 28 35 5 24 42\n",
      "0 4\n"
     ]
    }
   ],
   "source": [
    "def func():\n",
    "    N=int(input())\n",
    "    list1=list(map(int,input().split()))\n",
    "    m1=list1[0]\n",
    "    c=0\n",
    "    m2=list1[0]\n",
    "    d=0\n",
    "    list2=[]\n",
    "    for i in range(1,N):\n",
    "        if(list1[i]>m1):\n",
    "            m1=list1[i]\n",
    "            c=c+1\n",
    "        if(list1[i]<m2):\n",
    "            m2=list1[i]\n",
    "            d=d+1\n",
    "    list2.append(c)\n",
    "    list2.append(d)\n",
    "    print(*list2,sep=' ')\n",
    "func()"
   ]
  },
  {
   "cell_type": "code",
   "execution_count": null,
   "metadata": {},
   "outputs": [],
   "source": []
  }
 ],
 "metadata": {
  "kernelspec": {
   "display_name": "Python 3",
   "language": "python",
   "name": "python3"
  },
  "language_info": {
   "codemirror_mode": {
    "name": "ipython",
    "version": 3
   },
   "file_extension": ".py",
   "mimetype": "text/x-python",
   "name": "python",
   "nbconvert_exporter": "python",
   "pygments_lexer": "ipython3",
   "version": "3.6.5"
  }
 },
 "nbformat": 4,
 "nbformat_minor": 2
}
