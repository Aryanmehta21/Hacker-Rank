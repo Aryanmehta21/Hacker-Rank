{
 "cells": [
  {
   "cell_type": "code",
   "execution_count": 3,
   "metadata": {},
   "outputs": [
    {
     "name": "stdout",
     "output_type": "stream",
     "text": [
      "5\n",
      "23067588207539346171171980310421047513778063246676\n",
      "91942213363574161572522430563301811072406154908250\n",
      "74324986199524741059474233309513058123726617309629\n",
      "46376937677490009712648124896970078050417018260538\n",
      "37107287533902102798797998220837590246510135740250\n",
      "272819012979\n"
     ]
    }
   ],
   "source": [
    "def func():\n",
    "    T=int(input())\n",
    "    sum1=0\n",
    "    for i in range(0,T):\n",
    "        N=int(input())\n",
    "        \n",
    "        sum1=sum1+N\n",
    "    sum1=int(sum1/(10**40))\n",
    "    s=str(sum1)\n",
    "    c=[]\n",
    "    r=0\n",
    "    for digit in s:\n",
    "        if r<10:\n",
    "            c.append (int(digit))\n",
    "        r=r+1\n",
    "    print(*c,sep='')\n",
    "func()"
   ]
  },
  {
   "cell_type": "code",
   "execution_count": null,
   "metadata": {},
   "outputs": [],
   "source": []
  }
 ],
 "metadata": {
  "kernelspec": {
   "display_name": "Python 3",
   "language": "python",
   "name": "python3"
  },
  "language_info": {
   "codemirror_mode": {
    "name": "ipython",
    "version": 3
   },
   "file_extension": ".py",
   "mimetype": "text/x-python",
   "name": "python",
   "nbconvert_exporter": "python",
   "pygments_lexer": "ipython3",
   "version": "3.6.5"
  }
 },
 "nbformat": 4,
 "nbformat_minor": 2
}
