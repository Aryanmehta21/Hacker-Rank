{
 "cells": [
  {
   "cell_type": "code",
   "execution_count": 5,
   "metadata": {},
   "outputs": [
    {
     "name": "stdout",
     "output_type": "stream",
     "text": [
      "5\n",
      "--------e--------\n",
      "------e-d-e------\n",
      "----e-d-c-d-e----\n",
      "--e-d-c-b-c-d-e--\n",
      "e-d-c-b-a-b-c-d-e\n",
      "--e-d-c-b-c-d-e--\n",
      "----e-d-c-d-e----\n",
      "------e-d-e------\n",
      "--------e--------\n"
     ]
    }
   ],
   "source": [
    "import string\n",
    "\n",
    "size = int(input())\n",
    "alphabet = string.ascii_lowercase\n",
    "\n",
    "for i in range(size - 1, 0, -1):\n",
    "    row = [\"-\"] * (size * 2 - 1)\n",
    "    for j in range(0, size - i):\n",
    "        row[size - 1 - j] = alphabet[j + i]\n",
    "        row[size - 1 + j] = alphabet[j + i]\n",
    "    print(\"-\".join(row))\n",
    "\n",
    "for i in range(0, size):\n",
    "    row = [\"-\"] * (size * 2 - 1)\n",
    "    for j in range(0, size - i):\n",
    "        row[size - 1 - j] = alphabet[j + i]\n",
    "        row[size - 1 + j] = alphabet[j + i]\n",
    "    print(\"-\".join(row))"
   ]
  },
  {
   "cell_type": "code",
   "execution_count": null,
   "metadata": {},
   "outputs": [],
   "source": []
  }
 ],
 "metadata": {
  "kernelspec": {
   "display_name": "Python 3",
   "language": "python",
   "name": "python3"
  },
  "language_info": {
   "codemirror_mode": {
    "name": "ipython",
    "version": 3
   },
   "file_extension": ".py",
   "mimetype": "text/x-python",
   "name": "python",
   "nbconvert_exporter": "python",
   "pygments_lexer": "ipython3",
   "version": "3.6.5"
  }
 },
 "nbformat": 4,
 "nbformat_minor": 2
}
